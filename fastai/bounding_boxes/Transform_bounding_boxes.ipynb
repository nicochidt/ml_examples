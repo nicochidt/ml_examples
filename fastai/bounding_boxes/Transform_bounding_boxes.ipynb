{
 "cells": [
  {
   "cell_type": "code",
   "execution_count": 1,
   "metadata": {},
   "outputs": [],
   "source": [
    "%matplotlib inline\n",
    "%reload_ext autoreload\n",
    "%autoreload 2"
   ]
  },
  {
   "cell_type": "code",
   "execution_count": 4,
   "metadata": {},
   "outputs": [],
   "source": [
    "from fastai import * \n",
    "from fastai.vision import *\n",
    "\n",
    "from pathlib import Path\n",
    "import json \n",
    "from matplotlib import patches, patheffects\n",
    "import os \n",
    "import collections\n",
    "import pandas as pd"
   ]
  },
  {
   "cell_type": "code",
   "execution_count": 18,
   "metadata": {},
   "outputs": [],
   "source": [
    "imgs = [] \n",
    "img_file = open('data/boxes.csv', 'r')\n",
    "for line in img_file: \n",
    "    en = line.strip().split(',') \n",
    "    imgs.append( (en[0], [int(i) for i in en[1].split()] , en[2]))"
   ]
  },
  {
   "cell_type": "code",
   "execution_count": 19,
   "metadata": {},
   "outputs": [
    {
     "data": {
      "text/plain": [
       "[('imgs/img1.jpg', [121, 16, 492, 390], '0'),\n",
       " ('imgs/img2.jpg', [1057, 396, 2100, 1450], '1'),\n",
       " ('imgs/img3.jpg', [213, 39, 673, 519], '0')]"
      ]
     },
     "execution_count": 19,
     "metadata": {},
     "output_type": "execute_result"
    }
   ],
   "source": [
    "imgs"
   ]
  },
  {
   "cell_type": "code",
   "execution_count": 31,
   "metadata": {},
   "outputs": [],
   "source": [
    "df = pd.DataFrame( {'fn': [ i[0] for i in imgs ] , \n",
    "                    'x0': [ i[1][0] for i in imgs],\n",
    "                    'y0': [ i[1][1] for i in imgs],\n",
    "                    'x1': [ i[1][2] for i in imgs],\n",
    "                    'y1': [ i[1][3] for i in imgs],\n",
    "                    'cat': [ i[2] for i in imgs ] \n",
    "                   }, columns = ['fn', 'x0', 'y0', 'x1', 'y1', 'cat'] )\n",
    "df.to_csv('data/dataset.csv', index=False)"
   ]
  },
  {
   "cell_type": "code",
   "execution_count": 21,
   "metadata": {},
   "outputs": [],
   "source": [
    "class ObjectList(ObjectCategoryList):\n",
    "    \"`ItemList` for labelled bounding boxes.\"\n",
    "    _processor = vision.data.ObjectCategoryProcessor\n",
    "    \n",
    "    def get(self, i):\n",
    "        # I imagine self.items[i] returns only one bounding box here, as the list of columns['x0', 'y0', 'x1', 'y1']\n",
    "        return ImageBBox.create(*_get_size(self.x,i), [self.items[i]], labels=[self.classes[0]], classes=self.classes, pad_idx=self.pad_idx)"
   ]
  },
  {
   "cell_type": "code",
   "execution_count": 40,
   "metadata": {},
   "outputs": [],
   "source": [
    "class ObjectList(ObjectCategoryList):\n",
    "    \"`ItemList` for labelled bounding boxes.\"\n",
    "    _processor = vision.data.ObjectCategoryProcessor\n",
    "\n",
    "    def get(self, i):\n",
    "        # I imagine self.items[i] returns only one bounding box here, as the list of columns + label['x0', 'y0', 'x1', 'y1', 'label']\n",
    "        bb = self.items[i]\n",
    "        return ImageBBox.create(*_get_size(self.x,i), [bb[:-1]], labels=[bb[-1]], classes=self.classes, pad_idx=self.pad_idx)\n",
    "\n",
    "data = ObjectItemList.from_csv(path='data', \n",
    "                         csv_name='dataset.csv', \n",
    "                         folder='imgs',\n",
    "                         )\n",
    "       # .split_none()\n",
    "       # .label_from_df(cols=[ 'x0', 'y0', 'x1', 'y1', 'cat'], label_cls=ObjectList)\n",
    "       # .transform(None, resize_method = ResizeMethod.SQUISH, size=224, tfm_y=True)\n",
    "       # .databunch(bs=64) )"
   ]
  },
  {
   "cell_type": "code",
   "execution_count": 41,
   "metadata": {},
   "outputs": [
    {
     "data": {
      "text/plain": [
       "ObjectItemList (3 items)\n",
       "Image (3, 400, 600),Image (3, 2149, 3224),Image (3, 528, 793)\n",
       "Path: data"
      ]
     },
     "execution_count": 41,
     "metadata": {},
     "output_type": "execute_result"
    }
   ],
   "source": [
    "data"
   ]
  },
  {
   "cell_type": "code",
   "execution_count": null,
   "metadata": {},
   "outputs": [],
   "source": []
  }
 ],
 "metadata": {
  "kernelspec": {
   "display_name": "Python 3",
   "language": "python",
   "name": "python3"
  },
  "language_info": {
   "codemirror_mode": {
    "name": "ipython",
    "version": 3
   },
   "file_extension": ".py",
   "mimetype": "text/x-python",
   "name": "python",
   "nbconvert_exporter": "python",
   "pygments_lexer": "ipython3",
   "version": "3.6.4"
  }
 },
 "nbformat": 4,
 "nbformat_minor": 2
}
